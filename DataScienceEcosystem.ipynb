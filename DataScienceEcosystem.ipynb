{
 "cells": [
  {
   "cell_type": "markdown",
   "id": "f938517b-456c-4629-9166-314369998f6c",
   "metadata": {
    "tags": []
   },
   "source": [
    "# Data Science Tools and Ecosystem"
   ]
  },
  {
   "cell_type": "markdown",
   "id": "56c672d0-3367-4643-8c01-85d63f06759f",
   "metadata": {},
   "source": [
    "In this Jupyter Notebook, we will study about the concepts concepts taught on the \"IBM Tools for Data Science\" course"
   ]
  },
  {
   "cell_type": "markdown",
   "id": "8e6e2081-c585-4581-882e-7efb29b17118",
   "metadata": {},
   "source": [
    "## **Objectives:**\n",
    "\n",
    "- List of Data Scientists languages\n",
    "- List of Data Scientists Libraries\n",
    "- List of  Data Scientists Tools"
   ]
  },
  {
   "cell_type": "markdown",
   "id": "4051334f-6f23-49c0-8aff-9489b9d67761",
   "metadata": {
    "tags": []
   },
   "source": [
    "### Data Scientists languages\n",
    "\n",
    "1. Python\n",
    "2. R\n",
    "3. C/C++"
   ]
  },
  {
   "cell_type": "markdown",
   "id": "6b92d6f6-cd1d-49f6-9cd1-01ebe4f48d03",
   "metadata": {
    "tags": []
   },
   "source": [
    "### Data Scientists Libraries\n",
    "Some of the commonly used libraries used by Data Scientists include:\n",
    "\n",
    "1. Pandas\n",
    "2. Numpy\n",
    "3. Matplotlib"
   ]
  },
  {
   "cell_type": "markdown",
   "id": "b3fa755d-1e98-4f14-91cb-ab63b6330d4e",
   "metadata": {
    "tags": []
   },
   "source": [
    "### Data Scientists Tools\n",
    "\n",
    "| Data Science Tool |\n",
    "| ---- |\n",
    "| VS Code |\n",
    "| Git Lab|\n",
    "| IBM Watson Studio|"
   ]
  },
  {
   "cell_type": "markdown",
   "id": "ff8ea7fe-7277-4c61-b8c9-57c7b4376e3f",
   "metadata": {},
   "source": [
    "### Below are a few examples of evaluating arithmetic expressions in Python\n",
    "\n",
    "| Operators | Syntax | Functioning |\n",
    "| ---- | ---- | ---- |\n",
    "| + | x + y | Addition |\n",
    "| – | x – y | Subtraction |\n",
    "| * | x * y |Multiplication |\n",
    "|/ | x / y |Division |\n"
   ]
  },
  {
   "cell_type": "code",
   "execution_count": 7,
   "id": "ec389823-2e41-4ba6-9f79-4b5fe674b59f",
   "metadata": {
    "tags": []
   },
   "outputs": [
    {
     "data": {
      "text/plain": [
       "17"
      ]
     },
     "execution_count": 7,
     "metadata": {},
     "output_type": "execute_result"
    }
   ],
   "source": [
    "(3*4)+5\n",
    "\n",
    "#This exemple is a simple arithmetic expression to mutiply andd add integers"
   ]
  },
  {
   "cell_type": "code",
   "execution_count": 8,
   "id": "98e0e11f-b049-4313-acdb-f46c73ec0dc2",
   "metadata": {
    "tags": []
   },
   "outputs": [
    {
     "data": {
      "text/plain": [
       "3.3333333333333335"
      ]
     },
     "execution_count": 8,
     "metadata": {},
     "output_type": "execute_result"
    }
   ],
   "source": [
    "200/60\n",
    "# This will convert 200 minutes to hours by diving by 60"
   ]
  },
  {
   "cell_type": "markdown",
   "id": "ae457979-e0d1-4b99-84e0-10ff657db129",
   "metadata": {},
   "source": [
    "## Author\n",
    "Leonardo Mezzari"
   ]
  },
  {
   "cell_type": "code",
   "execution_count": null,
   "id": "dc7cc885-6262-48fa-8904-c6ede5f46c88",
   "metadata": {},
   "outputs": [],
   "source": []
  }
 ],
 "metadata": {
  "kernelspec": {
   "display_name": "Python",
   "language": "python",
   "name": "conda-env-python-py"
  },
  "language_info": {
   "codemirror_mode": {
    "name": "ipython",
    "version": 3
   },
   "file_extension": ".py",
   "mimetype": "text/x-python",
   "name": "python",
   "nbconvert_exporter": "python",
   "pygments_lexer": "ipython3",
   "version": "3.7.12"
  }
 },
 "nbformat": 4,
 "nbformat_minor": 5
}
